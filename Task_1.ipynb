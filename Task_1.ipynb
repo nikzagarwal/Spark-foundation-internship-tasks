{
  "nbformat": 4,
  "nbformat_minor": 0,
  "metadata": {
    "colab": {
      "name": "Spark_1.ipynb",
      "provenance": [],
      "collapsed_sections": []
    },
    "kernelspec": {
      "name": "python3",
      "display_name": "Python 3"
    }
  },
  "cells": [
    {
      "cell_type": "markdown",
      "metadata": {
        "id": "IOk8m8F1I964"
      },
      "source": [
        "# **Prediction Using Supervised ML**\n",
        "\n"
      ]
    },
    {
      "cell_type": "markdown",
      "metadata": {
        "id": "Ozz1CNZ38NwN"
      },
      "source": [
        "## 1. Importing all packages"
      ]
    },
    {
      "cell_type": "code",
      "metadata": {
        "id": "qkpSb9gL7e1d"
      },
      "source": [
        "\n",
        "import pandas as pd\n",
        "import numpy as np\n",
        "import matplotlib.pyplot as plt  \n",
        "import seaborn as sns\n",
        "%matplotlib inline\n",
        "\n",
        "from sklearn.model_selection import train_test_split  \n",
        "from sklearn.linear_model import LinearRegression\n",
        "from sklearn import metrics "
      ],
      "execution_count": 11,
      "outputs": []
    },
    {
      "cell_type": "markdown",
      "metadata": {
        "id": "9QZvSESe8S9g"
      },
      "source": [
        "## 2.  Importing and extracting data "
      ]
    },
    {
      "cell_type": "code",
      "metadata": {
        "id": "FpA_nBwZ7uh8",
        "outputId": "7be1bfd7-09ab-4a6f-f53e-5f081da95d09",
        "colab": {
          "base_uri": "https://localhost:8080/",
          "height": 221
        }
      },
      "source": [
        "df=pd.read_csv(\"http://bit.ly/w-data\")\n",
        "print(\"Data Imported\")\n",
        "df.head()"
      ],
      "execution_count": 2,
      "outputs": [
        {
          "output_type": "stream",
          "text": [
            "Data Imported\n"
          ],
          "name": "stdout"
        },
        {
          "output_type": "execute_result",
          "data": {
            "text/html": [
              "<div>\n",
              "<style scoped>\n",
              "    .dataframe tbody tr th:only-of-type {\n",
              "        vertical-align: middle;\n",
              "    }\n",
              "\n",
              "    .dataframe tbody tr th {\n",
              "        vertical-align: top;\n",
              "    }\n",
              "\n",
              "    .dataframe thead th {\n",
              "        text-align: right;\n",
              "    }\n",
              "</style>\n",
              "<table border=\"1\" class=\"dataframe\">\n",
              "  <thead>\n",
              "    <tr style=\"text-align: right;\">\n",
              "      <th></th>\n",
              "      <th>Hours</th>\n",
              "      <th>Scores</th>\n",
              "    </tr>\n",
              "  </thead>\n",
              "  <tbody>\n",
              "    <tr>\n",
              "      <th>0</th>\n",
              "      <td>2.5</td>\n",
              "      <td>21</td>\n",
              "    </tr>\n",
              "    <tr>\n",
              "      <th>1</th>\n",
              "      <td>5.1</td>\n",
              "      <td>47</td>\n",
              "    </tr>\n",
              "    <tr>\n",
              "      <th>2</th>\n",
              "      <td>3.2</td>\n",
              "      <td>27</td>\n",
              "    </tr>\n",
              "    <tr>\n",
              "      <th>3</th>\n",
              "      <td>8.5</td>\n",
              "      <td>75</td>\n",
              "    </tr>\n",
              "    <tr>\n",
              "      <th>4</th>\n",
              "      <td>3.5</td>\n",
              "      <td>30</td>\n",
              "    </tr>\n",
              "  </tbody>\n",
              "</table>\n",
              "</div>"
            ],
            "text/plain": [
              "   Hours  Scores\n",
              "0    2.5      21\n",
              "1    5.1      47\n",
              "2    3.2      27\n",
              "3    8.5      75\n",
              "4    3.5      30"
            ]
          },
          "metadata": {
            "tags": []
          },
          "execution_count": 2
        }
      ]
    },
    {
      "cell_type": "code",
      "metadata": {
        "id": "cqVLMa828j3u",
        "outputId": "7a082fb3-49ef-403b-a422-11fb1fd071f0",
        "colab": {
          "base_uri": "https://localhost:8080/",
          "height": 476
        }
      },
      "source": [
        "hours=df[\"Hours\"].values\n",
        "hours=hours.reshape(-1,1)\n",
        "print(\"hours=\",hours)\n",
        "\n",
        "scores=df[\"Scores\"].values\n",
        "print(\"scores=\",scores)\n",
        "scores=scores.reshape(-1,1)\n"
      ],
      "execution_count": 3,
      "outputs": [
        {
          "output_type": "stream",
          "text": [
            "hours= [[2.5]\n",
            " [5.1]\n",
            " [3.2]\n",
            " [8.5]\n",
            " [3.5]\n",
            " [1.5]\n",
            " [9.2]\n",
            " [5.5]\n",
            " [8.3]\n",
            " [2.7]\n",
            " [7.7]\n",
            " [5.9]\n",
            " [4.5]\n",
            " [3.3]\n",
            " [1.1]\n",
            " [8.9]\n",
            " [2.5]\n",
            " [1.9]\n",
            " [6.1]\n",
            " [7.4]\n",
            " [2.7]\n",
            " [4.8]\n",
            " [3.8]\n",
            " [6.9]\n",
            " [7.8]]\n",
            "scores= [21 47 27 75 30 20 88 60 81 25 85 62 41 42 17 95 30 24 67 69 30 54 35 76\n",
            " 86]\n"
          ],
          "name": "stdout"
        }
      ]
    },
    {
      "cell_type": "markdown",
      "metadata": {
        "id": "cwOhAxwR9rXi"
      },
      "source": [
        "## 3. Data Visualisation"
      ]
    },
    {
      "cell_type": "code",
      "metadata": {
        "id": "ANKfCLS_804L",
        "outputId": "685f22ce-5f60-4542-d4da-fd78f6149e15",
        "colab": {
          "base_uri": "https://localhost:8080/",
          "height": 318
        }
      },
      "source": [
        "sns.set_theme(color_codes=True)\n",
        "plt.scatter(hours,scores)\n",
        "plt.xlabel(\"No. of hours studied\")\n",
        "plt.ylabel(\"Marks Scored\")\n",
        "plt.title(\"Hours vs Marks\")\n",
        "plt.plot()"
      ],
      "execution_count": 4,
      "outputs": [
        {
          "output_type": "execute_result",
          "data": {
            "text/plain": [
              "[]"
            ]
          },
          "metadata": {
            "tags": []
          },
          "execution_count": 4
        },
        {
          "output_type": "display_data",
          "data": {
            "image/png": "[encoded data removed]",
            "text/plain": [
              "<Figure size 432x288 with 1 Axes>"
            ]
          },
          "metadata": {
            "tags": []
          }
        }
      ]
    },
    {
      "cell_type": "markdown",
      "metadata": {
        "id": "sLXGzVdRAEn5"
      },
      "source": [
        "## 4. Making ML model"
      ]
    },
    {
      "cell_type": "markdown",
      "metadata": {
        "id": "ATA5cGMAANHC"
      },
      "source": [
        "### 4a) Prepare Data"
      ]
    },
    {
      "cell_type": "code",
      "metadata": {
        "id": "xtb_KqKT-gyK"
      },
      "source": [
        "#splitting data\n",
        "x_train, x_test, y_train, y_test = train_test_split(hours, scores, \n",
        "                            test_size=0.2, random_state=1)"
      ],
      "execution_count": 5,
      "outputs": []
    },
    {
      "cell_type": "markdown",
      "metadata": {
        "id": "4mPsoo09Bqna"
      },
      "source": [
        "### 4b) Make model"
      ]
    },
    {
      "cell_type": "code",
      "metadata": {
        "id": "K4F9AQgwBZOT",
        "outputId": "43917290-5623-4ea7-8758-a90225fdf7df",
        "colab": {
          "base_uri": "https://localhost:8080/",
          "height": 68
        }
      },
      "source": [
        "reg = LinearRegression()  \n",
        "reg.fit(x_train, y_train) \n",
        "\n",
        "print(\"Training complete.\")\n",
        "print(\"Coefficient = \",reg.coef_)\n",
        "print(\"Intercept = \",reg.intercept_)"
      ],
      "execution_count": 6,
      "outputs": [
        {
          "output_type": "stream",
          "text": [
            "Training complete.\n",
            "Coefficient =  [[10.46110829]]\n",
            "Intercept =  [-1.53695733]\n"
          ],
          "name": "stdout"
        }
      ]
    },
    {
      "cell_type": "markdown",
      "metadata": {
        "id": "zIm7RZY1E0w8"
      },
      "source": [
        "### 4c) Plotting result"
      ]
    },
    {
      "cell_type": "code",
      "metadata": {
        "id": "x5h1hwGnB_P5",
        "outputId": "6e1a01a2-8e25-4be1-b79f-bf2c2940f18a",
        "colab": {
          "base_uri": "https://localhost:8080/",
          "height": 268
        }
      },
      "source": [
        "#y=mx+c\n",
        "line = reg.coef_*hours+reg.intercept_\n",
        "\n",
        "# Plotting for the test data\n",
        "plt.scatter(hours,scores )\n",
        "plt.plot(hours, line);\n",
        "plt.show()"
      ],
      "execution_count": 7,
      "outputs": [
        {
          "output_type": "display_data",
          "data": {
            "image/png": "[encoded data removed]",
            "text/plain": [
              "<Figure size 432x288 with 1 Axes>"
            ]
          },
          "metadata": {
            "tags": []
          }
        }
      ]
    },
    {
      "cell_type": "markdown",
      "metadata": {
        "id": "MmZ95-wsKDSC"
      },
      "source": [
        "### 4d) general Prediction for test data"
      ]
    },
    {
      "cell_type": "code",
      "metadata": {
        "id": "N4zJUP_xJ8_o"
      },
      "source": [
        "ypred=reg.predict(x_test)"
      ],
      "execution_count": 47,
      "outputs": []
    },
    {
      "cell_type": "markdown",
      "metadata": {
        "id": "tLn6MDDvHcvA"
      },
      "source": [
        "### 4e) Evaluation of Model"
      ]
    },
    {
      "cell_type": "code",
      "metadata": {
        "id": "l9St3YV3GRrT",
        "outputId": "a3d36504-6de9-499d-ace6-e7641f8ea899",
        "colab": {
          "base_uri": "https://localhost:8080/",
          "height": 51
        }
      },
      "source": [
        "from sklearn.metrics import r2_score\n",
        "print(\"r2-score: %2f\"%r2_score(ypred,y_test))\n",
        "#r2 score near 1 is best\n",
        "print(\"mse error : %2f\"%metrics.mean_absolute_error(y_test, ypred))"
      ],
      "execution_count": 13,
      "outputs": [
        {
          "output_type": "stream",
          "text": [
            "r2-score: 0.907893\n",
            "mse error : 7.882398\n"
          ],
          "name": "stdout"
        }
      ]
    },
    {
      "cell_type": "code",
      "metadata": {
        "id": "mSdcZL9oLvyx"
      },
      "source": [
        "res=pd.DataFrame({'test':y_test.flatten(),'predicted':ypred.flatten()})"
      ],
      "execution_count": 57,
      "outputs": []
    },
    {
      "cell_type": "code",
      "metadata": {
        "id": "MPaPUha1KgT4",
        "outputId": "d140d34c-e987-447b-fdc6-4143ba420415",
        "colab": {
          "base_uri": "https://localhost:8080/",
          "height": 265
        }
      },
      "source": [
        "res.plot(kind='bar')\n",
        "plt.legend()\n",
        "plt.show()"
      ],
      "execution_count": 63,
      "outputs": [
        {
          "output_type": "display_data",
          "data": {
            "image/png": "[encoded data removed]",
            "text/plain": [
              "<Figure size 432x288 with 1 Axes>"
            ]
          },
          "metadata": {
            "tags": [],
            "needs_background": "light"
          }
        }
      ]
    },
    {
      "cell_type": "markdown",
      "metadata": {
        "id": "OUVJfqyWK5Xs"
      },
      "source": [
        "### 4f) Prediction for given hour value"
      ]
    },
    {
      "cell_type": "code",
      "metadata": {
        "id": "g4uPE1IsH6tQ",
        "outputId": "35bc9d00-f730-4db3-e829-27c043e8f3a2",
        "colab": {
          "base_uri": "https://localhost:8080/",
          "height": 51
        }
      },
      "source": [
        "hour =np.array(9.25)\n",
        "hour=hour.reshape(-1,1)\n",
        "own_pred = reg.predict(hour)\n",
        "print(\"No of Hours = {}\".format(hour))\n",
        "print(\"Predicted Score = {}\".format(own_pred[0]))"
      ],
      "execution_count": 14,
      "outputs": [
        {
          "output_type": "stream",
          "text": [
            "No of Hours = [[9.25]]\n",
            "Predicted Score = [95.22829438]\n"
          ],
          "name": "stdout"
        }
      ]
    },
    {
      "cell_type": "markdown",
      "metadata": {
        "id": "RhQjkQL5S4IJ"
      },
      "source": [
        "## Thank You"
      ]
    },
    {
      "cell_type": "code",
      "metadata": {
        "id": "xanNHJT_S5dn"
      },
      "source": [
        ""
      ],
      "execution_count": null,
      "outputs": []
    }
  ]
}